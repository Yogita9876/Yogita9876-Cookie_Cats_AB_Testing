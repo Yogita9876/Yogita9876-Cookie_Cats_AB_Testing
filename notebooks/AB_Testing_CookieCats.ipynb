{
 "cells": [
  {
   "cell_type": "markdown",
   "metadata": {},
   "source": [
    "## Business Problem:\n",
    "\n",
    "Cookie Cats is a popular mobile puzzle game. In this game, players complete different levels and occasionally encounter gates that force them to wait before they can progress or make an in-game purchase. The current version of the game has the first gate at level 30. The product team wants to test moving this gate to level 40 to see if it improves player retention.\n",
    "\n",
    "As a product data scientist, our goal is to analyze the A/B test results and help the team decide whether to keep the gate at level 30 or move it to level 40.\n"
   ]
  },
  {
   "cell_type": "markdown",
   "metadata": {},
   "source": [
    "## Import Libraries"
   ]
  },
  {
   "cell_type": "code",
   "execution_count": 1,
   "metadata": {},
   "outputs": [],
   "source": [
    "import pandas as pd\n",
    "import numpy as np\n",
    "import scipy.stats as stats\n",
    "import statsmodels.api as sm\n",
    "import matplotlib.pyplot as plt\n",
    "import seaborn as sns\n",
    "from statsmodels.stats.power import TTestIndPower, tt_ind_solve_power\n",
    "from statsmodels.stats.proportion import proportions_chisquare, confint_proportions_2indep"
   ]
  },
  {
   "cell_type": "markdown",
   "metadata": {},
   "source": [
    "## Set random seed for reproducibility"
   ]
  },
  {
   "cell_type": "code",
   "execution_count": 2,
   "metadata": {},
   "outputs": [],
   "source": [
    "SEED = 123\n",
    "np.random.seed(SEED)"
   ]
  },
  {
   "cell_type": "markdown",
   "metadata": {},
   "source": [
    "### Disable warnings"
   ]
  },
  {
   "cell_type": "code",
   "execution_count": 3,
   "metadata": {},
   "outputs": [],
   "source": [
    "import warnings\n",
    "warnings.filterwarnings('ignore')"
   ]
  },
  {
   "cell_type": "markdown",
   "metadata": {},
   "source": [
    "## Load Data"
   ]
  },
  {
   "cell_type": "code",
   "execution_count": 18,
   "metadata": {},
   "outputs": [],
   "source": [
    "df = pd.read_csv('data/cookie_cats.csv')"
   ]
  },
  {
   "cell_type": "markdown",
   "metadata": {},
   "source": [
    "## Step 1 - Understand the Business Problem"
   ]
  },
  {
   "cell_type": "code",
   "execution_count": 19,
   "metadata": {},
   "outputs": [
    {
     "name": "stdout",
     "output_type": "stream",
     "text": [
      "First few rows of the dataset:\n",
      "   userid  version  sum_gamerounds  retention_1  retention_7\n",
      "0     116  gate_30               3        False        False\n",
      "1     337  gate_30              38         True        False\n",
      "2     377  gate_40             165         True        False\n",
      "3     483  gate_40               1        False        False\n",
      "4     488  gate_40             179         True         True\n",
      "\n",
      "Dataset Info:\n",
      "<class 'pandas.core.frame.DataFrame'>\n",
      "RangeIndex: 90189 entries, 0 to 90188\n",
      "Data columns (total 5 columns):\n",
      " #   Column          Non-Null Count  Dtype \n",
      "---  ------          --------------  ----- \n",
      " 0   userid          90189 non-null  int64 \n",
      " 1   version         90189 non-null  object\n",
      " 2   sum_gamerounds  90189 non-null  int64 \n",
      " 3   retention_1     90189 non-null  bool  \n",
      " 4   retention_7     90189 non-null  bool  \n",
      "dtypes: bool(2), int64(2), object(1)\n",
      "memory usage: 2.2+ MB\n",
      "None\n",
      "\n",
      "Missing Values:\n",
      "userid            0\n",
      "version           0\n",
      "sum_gamerounds    0\n",
      "retention_1       0\n",
      "retention_7       0\n",
      "dtype: int64\n"
     ]
    }
   ],
   "source": [
    "# Display the first five rows\n",
    "print(\"First few rows of the dataset:\")\n",
    "print(df.head())\n",
    "\n",
    "# Basic statistics\n",
    "print(\"\\nDataset Info:\")\n",
    "print(df.info())\n",
    "\n",
    "# Check for missing values\n",
    "print(\"\\nMissing Values:\")\n",
    "print(df.isnull().sum())"
   ]
  },
  {
   "cell_type": "code",
   "execution_count": 20,
   "metadata": {},
   "outputs": [
    {
     "name": "stdout",
     "output_type": "stream",
     "text": [
      "\n",
      "Basic Statistics by Version:\n",
      "         userid  retention_1  retention_7  sum_gamerounds\n",
      "version                                                  \n",
      "gate_30   44700       0.4482       0.1902         52.4563\n",
      "gate_40   45489       0.4423       0.1820         51.2988\n"
     ]
    }
   ],
   "source": [
    "# Get basic stats about the versions\n",
    "version_stats = df.groupby('version').agg({\n",
    "    'userid': 'count',\n",
    "    'retention_1': 'mean',\n",
    "    'retention_7': 'mean',\n",
    "    'sum_gamerounds': 'mean'\n",
    "}).round(4)\n",
    "\n",
    "print(\"\\nBasic Statistics by Version:\")\n",
    "print(version_stats)"
   ]
  },
  {
   "cell_type": "code",
   "execution_count": 21,
   "metadata": {},
   "outputs": [
    {
     "data": {
      "image/png": "[encoded data removed]",
      "text/plain": [
       "<Figure size 1200x500 with 1 Axes>"
      ]
     },
     "metadata": {},
     "output_type": "display_data"
    }
   ],
   "source": [
    "# Visualize game rounds distribution\n",
    "plt.figure(figsize=(12, 5))\n",
    "sns.histplot(data=df, x='sum_gamerounds', hue='version', bins=50)\n",
    "plt.title('Distribution of Game Rounds by Version')\n",
    "plt.xlabel('Number of Game Rounds')\n",
    "plt.ylabel('Count')\n",
    "plt.show()"
   ]
  },
  {
   "cell_type": "markdown",
   "metadata": {},
   "source": [
    "- There's a huge spike at or near 0 game rounds\n",
    "- The rest of the distribution is barely visible\n",
    "- This suggests our data is highly skewed (not normally distributed)\n",
    "- Most players are clustered in the low numbers\n",
    "- A few players might have very high numbers (up to 50,000 rounds)\n",
    "- This extreme range makes the visualization hard to interpret\n",
    "\n",
    "Let's use log scale to visualise the distribution better:"
   ]
  },
  {
   "cell_type": "code",
   "execution_count": 23,
   "metadata": {},
   "outputs": [
    {
     "data": {
      "text/plain": [
       "<Axes: xlabel='sum_gamerounds', ylabel='Count'>"
      ]
     },
     "execution_count": 23,
     "metadata": {},
     "output_type": "execute_result"
    },
    {
     "data": {
      "image/png": "[encoded data removed]",
      "text/plain": [
       "<Figure size 1200x500 with 1 Axes>"
      ]
     },
     "metadata": {},
     "output_type": "display_data"
    }
   ],
   "source": [
    "plt.figure(figsize=(12, 5))\n",
    "sns.histplot(data=df, x='sum_gamerounds', hue='version', bins=50, log_scale=True)"
   ]
  },
  {
   "cell_type": "markdown",
   "metadata": {},
   "source": [
    "- Highest peaks are around 10⁰ to 10¹ (1-10 rounds): Most players played very few rounds\n",
    "- Middle range is around 10¹ to 10² (10-100 rounds): Moderate number of players\n",
    "- Long tail extends to 10⁴ (10,000 rounds): Very few highly engaged players\n",
    "- Strong right-skewed distribution (long tail to the right)\n",
    "- Most players concentrate in the lower game rounds\n",
    "\n",
    "- gate_30 (blue) and gate_40 (orange) follow similar pattern\n",
    "- Both versions show similar decay in player count as rounds increase"
   ]
  },
  {
   "cell_type": "markdown",
   "metadata": {},
   "source": [
    "## Step 2 - State the Hypothesis\n",
    "\n",
    "\n",
    "For Day-1 Retention:\n",
    "- Ho: The Day-1 retention rates between gate_30 and gate_40 are the same\n",
    "- Ha: The Day-1 retention rates between gate_30 and gate_40 are different\n",
    "\n",
    "For Day-7 Retention:\n",
    "- Ho: The Day-7 retention rates between gate_30 and gate_40 are the same\n",
    "- Ha: The Day-7 retention rates between gate_30 and gate_40 are different\n",
    "\n",
    "For Game Rounds:\n",
    "- Ho: The average number of game rounds between gate_30 and gate_40 are the same\n",
    "- Ha: The average number of game rounds between gate_30 and gate_40 are different\n"
   ]
  },
  {
   "cell_type": "code",
   "execution_count": 22,
   "metadata": {},
   "outputs": [
    {
     "name": "stdout",
     "output_type": "stream",
     "text": [
      "Original alpha: 0.05\n",
      "Bonferroni corrected alpha: 0.016666666666666666\n"
     ]
    }
   ],
   "source": [
    "# Experiment parameters\n",
    "alpha = 0.05  # Significance level\n",
    "power = 0.80  # Statistical power\n",
    "mde = 0.10    # Minimum detectable effect\n",
    "\n",
    "\n",
    "# Number of tests/metrics\n",
    "n_tests = 3  # Day 1 retention, Day 7 retention, game rounds\n",
    "\n",
    "# Bonferroni corrected alpha\n",
    "alpha_bonferroni = alpha / n_tests\n",
    "print(f\"Original alpha: {alpha}\")\n",
    "print(f\"Bonferroni corrected alpha: {alpha_bonferroni}\")\n",
    "\n",
    "\n",
    "# Current retention rates\n",
    "retention_1_rate = df['retention_1'].mean()\n",
    "retention_7_rate = df['retention_7'].mean()"
   ]
  },
  {
   "cell_type": "markdown",
   "metadata": {},
   "source": [
    "## Step 3 - Design the Experiment\n"
   ]
  },
  {
   "cell_type": "code",
   "execution_count": 10,
   "metadata": {},
   "outputs": [
    {
     "name": "stdout",
     "output_type": "stream",
     "text": [
      "Required sample size per group (Day-1): 1900\n",
      "Required sample size per group (Day-7): 6900\n"
     ]
    }
   ],
   "source": [
    "# Calculate effect size and required sample size\n",
    "def calculate_sample_size(p1, mde):\n",
    "    p2 = p1 * (1 + mde)\n",
    "    cohen_h = sm.stats.proportion_effectsize(p1, p2)\n",
    "    n = tt_ind_solve_power(effect_size=cohen_h, power=power, alpha=alpha)\n",
    "    return int(round(n, -2))  # Round to nearest hundred\n",
    "\n",
    "#p1: This is the baseline conversion rate or retention rate (the current performance metric)\n",
    "#p2: This calculates the expected conversion/retention rate after the change\n",
    "#mde: Minimum Detectable Effect - the smallest change in the metric that you want to be able to detect with statistical significance\n",
    "\n",
    "# Calculate for both retention metrics\n",
    "n_day1 = calculate_sample_size(df[df['version'] == 'gate_30']['retention_1'].mean(), mde)\n",
    "n_day7 = calculate_sample_size(df[df['version'] == 'gate_30']['retention_7'].mean(), mde)\n",
    "\n",
    "print(f\"Required sample size per group (Day-1): {n_day1}\")\n",
    "print(f\"Required sample size per group (Day-7): {n_day7}\")\n"
   ]
  },
  {
   "cell_type": "code",
   "execution_count": 11,
   "metadata": {},
   "outputs": [
    {
     "data": {
      "text/plain": [
       "<Figure size 1000x600 with 0 Axes>"
      ]
     },
     "metadata": {},
     "output_type": "display_data"
    },
    {
     "data": {
      "image/png": "[encoded data removed]",
      "text/plain": [
       "<Figure size 640x480 with 1 Axes>"
      ]
     },
     "metadata": {},
     "output_type": "display_data"
    }
   ],
   "source": [
    "# Power Analysis Plot\n",
    "plt.figure(figsize=(10, 6))\n",
    "effect_size = sm.stats.proportion_effectsize(retention_7_rate, retention_7_rate * (1 + mde))\n",
    "analysis = TTestIndPower()\n",
    "analysis.plot_power(dep_var='nobs', nobs=np.arange(1000, 50000, 1000), effect_size=[effect_size])\n",
    "plt.axhline(0.8, linestyle='--', label='Desired Power', alpha=0.5)\n",
    "plt.axvline(max(n_day1, n_day7), linestyle='--', color='orange', label='Required Sample Size', alpha=0.5)\n",
    "plt.title('Power Analysis')\n",
    "plt.ylabel('Statistical Power')\n",
    "plt.grid(alpha=0.3)\n",
    "plt.legend()\n",
    "plt.show()"
   ]
  },
  {
   "cell_type": "markdown",
   "metadata": {},
   "source": [
    "\n",
    "## Step 4 - Analyze the Results\n"
   ]
  },
  {
   "cell_type": "code",
   "execution_count": 12,
   "metadata": {},
   "outputs": [
    {
     "name": "stdout",
     "output_type": "stream",
     "text": [
      "\n",
      "Detailed Metrics by Version:\n",
      "        userid retention_1         retention_7         sum_gamerounds  \\\n",
      "         count       count    mean       count    mean           mean   \n",
      "version                                                                 \n",
      "gate_30  44700       44700  0.4482       44700  0.1902        52.4563   \n",
      "gate_40  45489       45489  0.4423       45489  0.1820        51.2988   \n",
      "\n",
      "                   \n",
      "              std  \n",
      "version            \n",
      "gate_30  256.7164  \n",
      "gate_40  103.2944  \n"
     ]
    }
   ],
   "source": [
    "# Calculate metrics for each version\n",
    "metrics = df.groupby('version').agg({\n",
    "    'userid': 'count',\n",
    "    'retention_1': ['count', 'mean'],\n",
    "    'retention_7': ['count', 'mean'],\n",
    "    'sum_gamerounds': ['mean', 'std']\n",
    "}).round(4)\n",
    "\n",
    "print(\"\\nDetailed Metrics by Version:\")\n",
    "print(metrics)"
   ]
  },
  {
   "cell_type": "markdown",
   "metadata": {},
   "source": [
    "## Step 5 - Statistical Testing\n"
   ]
  },
  {
   "cell_type": "code",
   "execution_count": 16,
   "metadata": {},
   "outputs": [],
   "source": [
    "# Function for chi-square test\n",
    "def run_chi_square_test(df, metric):\n",
    "    # Create contingency table\n",
    "    contingency = pd.crosstab(df['version'], df[metric])\n",
    "    # Run chi-square test\n",
    "    chi2, p_value, dof, expected = stats.chi2_contingency(contingency)\n",
    "    return chi2, p_value"
   ]
  },
  {
   "cell_type": "code",
   "execution_count": 17,
   "metadata": {},
   "outputs": [],
   "source": [
    "# Chi-square test for Day 1 retention\n",
    "chi2_1day, p_value_1day = run_chi_square_test(df, 'retention_1')\n",
    "\n",
    "# Chi-square test for Day 7 retention\n",
    "chi2_7day, p_value_7day = run_chi_square_test(df, 'retention_7')"
   ]
  },
  {
   "cell_type": "code",
   "execution_count": 18,
   "metadata": {},
   "outputs": [],
   "source": [
    "# T-test for game rounds\n",
    "rounds_control = df[df['version'] == 'gate_30']['sum_gamerounds']\n",
    "rounds_treatment = df[df['version'] == 'gate_40']['sum_gamerounds']\n",
    "t_stat, p_value_rounds = stats.ttest_ind(rounds_control, rounds_treatment)\n"
   ]
  },
  {
   "cell_type": "code",
   "execution_count": 19,
   "metadata": {},
   "outputs": [
    {
     "name": "stdout",
     "output_type": "stream",
     "text": [
      "\n",
      "Statistical Test Results:\n",
      "\n",
      "1. Day 1 Retention Chi-square Test:\n",
      "Chi-square statistic: 3.1591\n",
      "p-value: 0.0755\n",
      "\n",
      "2. Day 7 Retention Chi-square Test:\n",
      "Chi-square statistic: 9.9591\n",
      "p-value: 0.0016\n",
      "\n",
      "3. Game Rounds T-test:\n",
      "t-statistic: 0.8910\n",
      "p-value: 0.3729\n"
     ]
    }
   ],
   "source": [
    "print(\"\\nStatistical Test Results:\")\n",
    "print(\"\\n1. Day 1 Retention Chi-square Test:\")\n",
    "print(f\"Chi-square statistic: {chi2_1day:.4f}\")\n",
    "print(f\"p-value: {p_value_1day:.4f}\")\n",
    "\n",
    "print(\"\\n2. Day 7 Retention Chi-square Test:\")\n",
    "print(f\"Chi-square statistic: {chi2_7day:.4f}\")\n",
    "print(f\"p-value: {p_value_7day:.4f}\")\n",
    "\n",
    "print(\"\\n3. Game Rounds T-test:\")\n",
    "print(f\"t-statistic: {t_stat:.4f}\")\n",
    "print(f\"p-value: {p_value_rounds:.4f}\")\n",
    "\n"
   ]
  },
  {
   "cell_type": "markdown",
   "metadata": {},
   "source": [
    "## Step 6 - Effect Size Analysis\n"
   ]
  },
  {
   "cell_type": "code",
   "execution_count": 20,
   "metadata": {},
   "outputs": [],
   "source": [
    "# Calculate relative differences\n",
    "def calculate_relative_difference(df, metric_col):\n",
    "    rates = df.groupby('version')[metric_col].mean()\n",
    "    rel_diff = ((rates['gate_40'] - rates['gate_30']) / rates['gate_30'] * 100)\n",
    "    return rel_diff\n"
   ]
  },
  {
   "cell_type": "code",
   "execution_count": 21,
   "metadata": {},
   "outputs": [],
   "source": [
    "# Calculate effect sizes\n",
    "day1_effect = calculate_relative_difference(df, 'retention_1')\n",
    "day7_effect = calculate_relative_difference(df, 'retention_7')\n",
    "rounds_effect = calculate_relative_difference(df, 'sum_gamerounds')\n"
   ]
  },
  {
   "cell_type": "code",
   "execution_count": 22,
   "metadata": {},
   "outputs": [
    {
     "name": "stdout",
     "output_type": "stream",
     "text": [
      "\n",
      "Effect Size Analysis:\n",
      "Day 1 Retention Relative Difference: -1.32%\n",
      "Day 7 Retention Relative Difference: -4.31%\n",
      "Game Rounds Relative Difference: -2.21%\n"
     ]
    }
   ],
   "source": [
    "print(\"\\nEffect Size Analysis:\")\n",
    "print(f\"Day 1 Retention Relative Difference: {day1_effect:.2f}%\")\n",
    "print(f\"Day 7 Retention Relative Difference: {day7_effect:.2f}%\")\n",
    "print(f\"Game Rounds Relative Difference: {rounds_effect:.2f}%\")\n",
    "\n"
   ]
  },
  {
   "cell_type": "markdown",
   "metadata": {},
   "source": [
    "## Step 7 - Decision and Recommendation\n"
   ]
  },
  {
   "cell_type": "markdown",
   "metadata": {},
   "source": [
    "Based on the analysis:\n",
    "\n",
    "1. Statistical Significance:\n",
    "- Day 1 Retention: Not statistically significant (p = 0.0755)\n",
    "- Day 7 Retention: Statistically significant (p = 0.0016)\n",
    "- Game Rounds: Not statistically significant (p = 0.3729)\n",
    "\n",
    "2. Effect Sizes:\n",
    "- Day 1 Retention: -1.32% (negative impact)\n",
    "- Day 7 Retention: -4.31% (negative impact)\n",
    "- Game Rounds: -2.21% (negative impact)\n",
    "\n",
    "Recommendation:\n",
    "Keep the gate at level 30 (control version) because:\n",
    "1. Moving the gate to level 40 shows a significant negative impact on 7-day retention\n",
    "2. All metrics show negative trends, though only 7-day retention is statistically significant\n",
    "3. The 4.31% decrease in 7-day retention is both statistically and practically significant\n",
    "4. There are no offsetting positive effects in other metrics to justify the change\n"
   ]
  }
 ],
 "metadata": {
  "kernelspec": {
   "display_name": "venv",
   "language": "python",
   "name": "python3"
  },
  "language_info": {
   "codemirror_mode": {
    "name": "ipython",
    "version": 3
   },
   "file_extension": ".py",
   "mimetype": "text/x-python",
   "name": "python",
   "nbconvert_exporter": "python",
   "pygments_lexer": "ipython3",
   "version": "3.10.14"
  }
 },
 "nbformat": 4,
 "nbformat_minor": 2
}
